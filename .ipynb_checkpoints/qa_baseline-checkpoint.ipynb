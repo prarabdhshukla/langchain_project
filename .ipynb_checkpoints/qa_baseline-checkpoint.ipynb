{
 "cells": [
  {
   "cell_type": "code",
   "execution_count": 1,
   "metadata": {},
   "outputs": [],
   "source": [
    "from langchain.embeddings.openai import OpenAIEmbeddings\n",
    "from langchain.vectorstores import Chroma\n",
    "from langchain.text_splitter import CharacterTextSplitter\n",
    "from langchain import OpenAI, VectorDBQA\n",
    "from langchain.document_loaders import DirectoryLoader\n",
    "import magic\n",
    "import os\n",
    "import nltk\n",
    "from io import StringIO"
   ]
  },
  {
   "cell_type": "code",
   "execution_count": 2,
   "metadata": {},
   "outputs": [],
   "source": [
    "documents=[]\n",
    "relevant='./data/relevant/'\n",
    "generic='./data/generic'\n",
    "\n",
    "for text_file in os.listdir(relevant):\n",
    "    with open(os.path.join(relevant,text_file), 'r') as File:\n",
    "        documents.append(File.read())\n",
    "for text_file in os.listdir(generic):\n",
    "    with open(os.path.join(generic,text_file), 'r') as File:\n",
    "        documents.append(File.read())"
   ]
  },
  {
   "cell_type": "code",
   "execution_count": 3,
   "metadata": {},
   "outputs": [
    {
     "data": {
      "text/plain": [
       "20"
      ]
     },
     "execution_count": 3,
     "metadata": {},
     "output_type": "execute_result"
    }
   ],
   "source": [
    "len(documents)"
   ]
  },
  {
   "cell_type": "code",
   "execution_count": 4,
   "metadata": {},
   "outputs": [],
   "source": [
    "text_splitter=CharacterTextSplitter(chunk_size=256,chunk_overlap=0)"
   ]
  },
  {
   "cell_type": "code",
   "execution_count": 5,
   "metadata": {},
   "outputs": [
    {
     "name": "stderr",
     "output_type": "stream",
     "text": [
      "Created a chunk of size 439, which is longer than the specified 256\n",
      "Created a chunk of size 997, which is longer than the specified 256\n",
      "Created a chunk of size 2735, which is longer than the specified 256\n",
      "Created a chunk of size 288, which is longer than the specified 256\n",
      "Created a chunk of size 1233, which is longer than the specified 256\n",
      "Created a chunk of size 422, which is longer than the specified 256\n",
      "Created a chunk of size 1102, which is longer than the specified 256\n",
      "Created a chunk of size 1118, which is longer than the specified 256\n",
      "Created a chunk of size 1371, which is longer than the specified 256\n",
      "Created a chunk of size 797, which is longer than the specified 256\n",
      "Created a chunk of size 1413, which is longer than the specified 256\n",
      "Created a chunk of size 681, which is longer than the specified 256\n",
      "Created a chunk of size 1171, which is longer than the specified 256\n",
      "Created a chunk of size 812, which is longer than the specified 256\n",
      "Created a chunk of size 1554, which is longer than the specified 256\n",
      "Created a chunk of size 518, which is longer than the specified 256\n",
      "Created a chunk of size 4883, which is longer than the specified 256\n",
      "Created a chunk of size 2039, which is longer than the specified 256\n",
      "Created a chunk of size 335, which is longer than the specified 256\n",
      "Created a chunk of size 2046, which is longer than the specified 256\n",
      "Created a chunk of size 753, which is longer than the specified 256\n",
      "Created a chunk of size 282, which is longer than the specified 256\n",
      "Created a chunk of size 415, which is longer than the specified 256\n",
      "Created a chunk of size 1237, which is longer than the specified 256\n",
      "Created a chunk of size 291, which is longer than the specified 256\n",
      "Created a chunk of size 294, which is longer than the specified 256\n",
      "Created a chunk of size 904, which is longer than the specified 256\n",
      "Created a chunk of size 980, which is longer than the specified 256\n",
      "Created a chunk of size 519, which is longer than the specified 256\n",
      "Created a chunk of size 1775, which is longer than the specified 256\n",
      "Created a chunk of size 1268, which is longer than the specified 256\n",
      "Created a chunk of size 1754, which is longer than the specified 256\n",
      "Created a chunk of size 871, which is longer than the specified 256\n",
      "Created a chunk of size 891, which is longer than the specified 256\n",
      "Created a chunk of size 629, which is longer than the specified 256\n",
      "Created a chunk of size 1038, which is longer than the specified 256\n",
      "Created a chunk of size 651, which is longer than the specified 256\n",
      "Created a chunk of size 708, which is longer than the specified 256\n",
      "Created a chunk of size 798, which is longer than the specified 256\n",
      "Created a chunk of size 4232, which is longer than the specified 256\n",
      "Created a chunk of size 1064, which is longer than the specified 256\n",
      "Created a chunk of size 959, which is longer than the specified 256\n",
      "Created a chunk of size 2810, which is longer than the specified 256\n",
      "Created a chunk of size 2750, which is longer than the specified 256\n",
      "Created a chunk of size 1303, which is longer than the specified 256\n",
      "Created a chunk of size 1676, which is longer than the specified 256\n",
      "Created a chunk of size 2548, which is longer than the specified 256\n",
      "Created a chunk of size 2460, which is longer than the specified 256\n",
      "Created a chunk of size 1826, which is longer than the specified 256\n",
      "Created a chunk of size 1335, which is longer than the specified 256\n",
      "Created a chunk of size 338, which is longer than the specified 256\n",
      "Created a chunk of size 1485, which is longer than the specified 256\n",
      "Created a chunk of size 2158, which is longer than the specified 256\n",
      "Created a chunk of size 2233, which is longer than the specified 256\n",
      "Created a chunk of size 1305, which is longer than the specified 256\n",
      "Created a chunk of size 732, which is longer than the specified 256\n",
      "Created a chunk of size 1444, which is longer than the specified 256\n",
      "Created a chunk of size 1564, which is longer than the specified 256\n",
      "Created a chunk of size 2494, which is longer than the specified 256\n",
      "Created a chunk of size 1168, which is longer than the specified 256\n",
      "Created a chunk of size 965, which is longer than the specified 256\n",
      "Created a chunk of size 1592, which is longer than the specified 256\n",
      "Created a chunk of size 1507, which is longer than the specified 256\n",
      "Created a chunk of size 1214, which is longer than the specified 256\n",
      "Created a chunk of size 975, which is longer than the specified 256\n",
      "Created a chunk of size 489, which is longer than the specified 256\n",
      "Created a chunk of size 550, which is longer than the specified 256\n",
      "Created a chunk of size 1440, which is longer than the specified 256\n",
      "Created a chunk of size 1907, which is longer than the specified 256\n",
      "Created a chunk of size 4086, which is longer than the specified 256\n",
      "Created a chunk of size 1708, which is longer than the specified 256\n",
      "Created a chunk of size 1888, which is longer than the specified 256\n",
      "Created a chunk of size 640, which is longer than the specified 256\n",
      "Created a chunk of size 1285, which is longer than the specified 256\n",
      "Created a chunk of size 575, which is longer than the specified 256\n",
      "Created a chunk of size 606, which is longer than the specified 256\n",
      "Created a chunk of size 678, which is longer than the specified 256\n",
      "Created a chunk of size 2253, which is longer than the specified 256\n",
      "Created a chunk of size 1942, which is longer than the specified 256\n",
      "Created a chunk of size 687, which is longer than the specified 256\n",
      "Created a chunk of size 6552, which is longer than the specified 256\n",
      "Created a chunk of size 529, which is longer than the specified 256\n",
      "Created a chunk of size 1935, which is longer than the specified 256\n",
      "Created a chunk of size 2315, which is longer than the specified 256\n",
      "Created a chunk of size 498, which is longer than the specified 256\n",
      "Created a chunk of size 734, which is longer than the specified 256\n",
      "Created a chunk of size 568, which is longer than the specified 256\n",
      "Created a chunk of size 2455, which is longer than the specified 256\n",
      "Created a chunk of size 3583, which is longer than the specified 256\n",
      "Created a chunk of size 1253, which is longer than the specified 256\n",
      "Created a chunk of size 730, which is longer than the specified 256\n",
      "Created a chunk of size 5751, which is longer than the specified 256\n",
      "Created a chunk of size 1765, which is longer than the specified 256\n",
      "Created a chunk of size 1989, which is longer than the specified 256\n",
      "Created a chunk of size 683, which is longer than the specified 256\n",
      "Created a chunk of size 925, which is longer than the specified 256\n",
      "Created a chunk of size 594, which is longer than the specified 256\n",
      "Created a chunk of size 2039, which is longer than the specified 256\n",
      "Created a chunk of size 636, which is longer than the specified 256\n",
      "Created a chunk of size 1102, which is longer than the specified 256\n",
      "Created a chunk of size 409, which is longer than the specified 256\n",
      "Created a chunk of size 1090, which is longer than the specified 256\n",
      "Created a chunk of size 1013, which is longer than the specified 256\n",
      "Created a chunk of size 910, which is longer than the specified 256\n",
      "Created a chunk of size 353, which is longer than the specified 256\n",
      "Created a chunk of size 1279, which is longer than the specified 256\n",
      "Created a chunk of size 674, which is longer than the specified 256\n",
      "Created a chunk of size 1587, which is longer than the specified 256\n",
      "Created a chunk of size 1899, which is longer than the specified 256\n",
      "Created a chunk of size 1435, which is longer than the specified 256\n",
      "Created a chunk of size 902, which is longer than the specified 256\n",
      "Created a chunk of size 907, which is longer than the specified 256\n",
      "Created a chunk of size 863, which is longer than the specified 256\n",
      "Created a chunk of size 2237, which is longer than the specified 256\n",
      "Created a chunk of size 2900, which is longer than the specified 256\n",
      "Created a chunk of size 1941, which is longer than the specified 256\n",
      "Created a chunk of size 2252, which is longer than the specified 256\n",
      "Created a chunk of size 2741, which is longer than the specified 256\n",
      "Created a chunk of size 732, which is longer than the specified 256\n",
      "Created a chunk of size 948, which is longer than the specified 256\n",
      "Created a chunk of size 508, which is longer than the specified 256\n",
      "Created a chunk of size 3333, which is longer than the specified 256\n",
      "Created a chunk of size 660, which is longer than the specified 256\n",
      "Created a chunk of size 442, which is longer than the specified 256\n",
      "Created a chunk of size 2399, which is longer than the specified 256\n",
      "Created a chunk of size 1376, which is longer than the specified 256\n",
      "Created a chunk of size 2732, which is longer than the specified 256\n",
      "Created a chunk of size 2098, which is longer than the specified 256\n",
      "Created a chunk of size 1296, which is longer than the specified 256\n",
      "Created a chunk of size 464, which is longer than the specified 256\n",
      "Created a chunk of size 1721, which is longer than the specified 256\n",
      "Created a chunk of size 1758, which is longer than the specified 256\n",
      "Created a chunk of size 1311, which is longer than the specified 256\n",
      "Created a chunk of size 366, which is longer than the specified 256\n",
      "Created a chunk of size 434, which is longer than the specified 256\n",
      "Created a chunk of size 1119, which is longer than the specified 256\n",
      "Created a chunk of size 951, which is longer than the specified 256\n",
      "Created a chunk of size 868, which is longer than the specified 256\n",
      "Created a chunk of size 2835, which is longer than the specified 256\n",
      "Created a chunk of size 1923, which is longer than the specified 256\n",
      "Created a chunk of size 278, which is longer than the specified 256\n",
      "Created a chunk of size 329, which is longer than the specified 256\n",
      "Created a chunk of size 2514, which is longer than the specified 256\n",
      "Created a chunk of size 2879, which is longer than the specified 256\n",
      "Created a chunk of size 425, which is longer than the specified 256\n",
      "Created a chunk of size 1998, which is longer than the specified 256\n",
      "Created a chunk of size 1779, which is longer than the specified 256\n",
      "Created a chunk of size 1885, which is longer than the specified 256\n",
      "Created a chunk of size 1352, which is longer than the specified 256\n",
      "Created a chunk of size 398, which is longer than the specified 256\n",
      "Created a chunk of size 1498, which is longer than the specified 256\n",
      "Created a chunk of size 2494, which is longer than the specified 256\n",
      "Created a chunk of size 1174, which is longer than the specified 256\n",
      "Created a chunk of size 847, which is longer than the specified 256\n",
      "Created a chunk of size 333, which is longer than the specified 256\n",
      "Created a chunk of size 1579, which is longer than the specified 256\n",
      "Created a chunk of size 1671, which is longer than the specified 256\n",
      "Created a chunk of size 2775, which is longer than the specified 256\n",
      "Created a chunk of size 837, which is longer than the specified 256\n",
      "Created a chunk of size 267, which is longer than the specified 256\n",
      "Created a chunk of size 2177, which is longer than the specified 256\n",
      "Created a chunk of size 1161, which is longer than the specified 256\n",
      "Created a chunk of size 284, which is longer than the specified 256\n",
      "Created a chunk of size 2711, which is longer than the specified 256\n",
      "Created a chunk of size 2717, which is longer than the specified 256\n",
      "Created a chunk of size 2647, which is longer than the specified 256\n",
      "Created a chunk of size 2343, which is longer than the specified 256\n",
      "Created a chunk of size 1368, which is longer than the specified 256\n",
      "Created a chunk of size 2887, which is longer than the specified 256\n",
      "Created a chunk of size 1835, which is longer than the specified 256\n",
      "Created a chunk of size 4504, which is longer than the specified 256\n",
      "Created a chunk of size 1070, which is longer than the specified 256\n",
      "Created a chunk of size 6246, which is longer than the specified 256\n",
      "Created a chunk of size 323, which is longer than the specified 256\n",
      "Created a chunk of size 1241, which is longer than the specified 256\n",
      "Created a chunk of size 3196, which is longer than the specified 256\n",
      "Created a chunk of size 3619, which is longer than the specified 256\n",
      "Created a chunk of size 2132, which is longer than the specified 256\n",
      "Created a chunk of size 1716, which is longer than the specified 256\n",
      "Created a chunk of size 470, which is longer than the specified 256\n",
      "Created a chunk of size 881, which is longer than the specified 256\n",
      "Created a chunk of size 2682, which is longer than the specified 256\n",
      "Created a chunk of size 4312, which is longer than the specified 256\n",
      "Created a chunk of size 727, which is longer than the specified 256\n",
      "Created a chunk of size 1348, which is longer than the specified 256\n",
      "Created a chunk of size 282, which is longer than the specified 256\n",
      "Created a chunk of size 2703, which is longer than the specified 256\n",
      "Created a chunk of size 485, which is longer than the specified 256\n",
      "Created a chunk of size 1843, which is longer than the specified 256\n",
      "Created a chunk of size 501, which is longer than the specified 256\n",
      "Created a chunk of size 2720, which is longer than the specified 256\n",
      "Created a chunk of size 1121, which is longer than the specified 256\n",
      "Created a chunk of size 2667, which is longer than the specified 256\n",
      "Created a chunk of size 2877, which is longer than the specified 256\n",
      "Created a chunk of size 874, which is longer than the specified 256\n",
      "Created a chunk of size 3941, which is longer than the specified 256\n",
      "Created a chunk of size 631, which is longer than the specified 256\n",
      "Created a chunk of size 1091, which is longer than the specified 256\n",
      "Created a chunk of size 1153, which is longer than the specified 256\n",
      "Created a chunk of size 979, which is longer than the specified 256\n",
      "Created a chunk of size 1089, which is longer than the specified 256\n",
      "Created a chunk of size 3405, which is longer than the specified 256\n",
      "Created a chunk of size 1136, which is longer than the specified 256\n",
      "Created a chunk of size 767, which is longer than the specified 256\n",
      "Created a chunk of size 2404, which is longer than the specified 256\n",
      "Created a chunk of size 2119, which is longer than the specified 256\n",
      "Created a chunk of size 346, which is longer than the specified 256\n",
      "Created a chunk of size 631, which is longer than the specified 256\n",
      "Created a chunk of size 2281, which is longer than the specified 256\n",
      "Created a chunk of size 2302, which is longer than the specified 256\n",
      "Created a chunk of size 966, which is longer than the specified 256\n",
      "Created a chunk of size 2604, which is longer than the specified 256\n",
      "Created a chunk of size 1348, which is longer than the specified 256\n",
      "Created a chunk of size 3613, which is longer than the specified 256\n",
      "Created a chunk of size 3020, which is longer than the specified 256\n",
      "Created a chunk of size 1068, which is longer than the specified 256\n",
      "Created a chunk of size 3592, which is longer than the specified 256\n",
      "Created a chunk of size 5339, which is longer than the specified 256\n",
      "Created a chunk of size 2585, which is longer than the specified 256\n",
      "Created a chunk of size 1747, which is longer than the specified 256\n",
      "Created a chunk of size 3941, which is longer than the specified 256\n",
      "Created a chunk of size 1000, which is longer than the specified 256\n",
      "Created a chunk of size 1569, which is longer than the specified 256\n",
      "Created a chunk of size 3265, which is longer than the specified 256\n",
      "Created a chunk of size 1500, which is longer than the specified 256\n",
      "Created a chunk of size 1069, which is longer than the specified 256\n",
      "Created a chunk of size 4115, which is longer than the specified 256\n",
      "Created a chunk of size 552, which is longer than the specified 256\n",
      "Created a chunk of size 1021, which is longer than the specified 256\n",
      "Created a chunk of size 323, which is longer than the specified 256\n",
      "Created a chunk of size 929, which is longer than the specified 256\n",
      "Created a chunk of size 541, which is longer than the specified 256\n",
      "Created a chunk of size 663, which is longer than the specified 256\n",
      "Created a chunk of size 1240, which is longer than the specified 256\n",
      "Created a chunk of size 475, which is longer than the specified 256\n",
      "Created a chunk of size 1287, which is longer than the specified 256\n",
      "Created a chunk of size 1767, which is longer than the specified 256\n",
      "Created a chunk of size 2641, which is longer than the specified 256\n",
      "Created a chunk of size 1824, which is longer than the specified 256\n",
      "Created a chunk of size 3510, which is longer than the specified 256\n",
      "Created a chunk of size 1244, which is longer than the specified 256\n",
      "Created a chunk of size 747, which is longer than the specified 256\n",
      "Created a chunk of size 4563, which is longer than the specified 256\n",
      "Created a chunk of size 2246, which is longer than the specified 256\n",
      "Created a chunk of size 517, which is longer than the specified 256\n",
      "Created a chunk of size 1902, which is longer than the specified 256\n",
      "Created a chunk of size 2952, which is longer than the specified 256\n",
      "Created a chunk of size 2136, which is longer than the specified 256\n",
      "Created a chunk of size 1178, which is longer than the specified 256\n",
      "Created a chunk of size 1422, which is longer than the specified 256\n",
      "Created a chunk of size 547, which is longer than the specified 256\n",
      "Created a chunk of size 937, which is longer than the specified 256\n",
      "Created a chunk of size 3129, which is longer than the specified 256\n",
      "Created a chunk of size 1836, which is longer than the specified 256\n",
      "Created a chunk of size 1910, which is longer than the specified 256\n",
      "Created a chunk of size 496, which is longer than the specified 256\n",
      "Created a chunk of size 2141, which is longer than the specified 256\n",
      "Created a chunk of size 741, which is longer than the specified 256\n",
      "Created a chunk of size 2023, which is longer than the specified 256\n",
      "Created a chunk of size 413, which is longer than the specified 256\n",
      "Created a chunk of size 1534, which is longer than the specified 256\n",
      "Created a chunk of size 534, which is longer than the specified 256\n",
      "Created a chunk of size 674, which is longer than the specified 256\n",
      "Created a chunk of size 1423, which is longer than the specified 256\n",
      "Created a chunk of size 3368, which is longer than the specified 256\n",
      "Created a chunk of size 3211, which is longer than the specified 256\n",
      "Created a chunk of size 2472, which is longer than the specified 256\n",
      "Created a chunk of size 2517, which is longer than the specified 256\n",
      "Created a chunk of size 3682, which is longer than the specified 256\n",
      "Created a chunk of size 1121, which is longer than the specified 256\n",
      "Created a chunk of size 530, which is longer than the specified 256\n",
      "Created a chunk of size 1711, which is longer than the specified 256\n",
      "Created a chunk of size 972, which is longer than the specified 256\n",
      "Created a chunk of size 1598, which is longer than the specified 256\n",
      "Created a chunk of size 950, which is longer than the specified 256\n",
      "Created a chunk of size 2667, which is longer than the specified 256\n",
      "Created a chunk of size 3015, which is longer than the specified 256\n",
      "Created a chunk of size 4011, which is longer than the specified 256\n",
      "Created a chunk of size 1606, which is longer than the specified 256\n",
      "Created a chunk of size 771, which is longer than the specified 256\n",
      "Created a chunk of size 1102, which is longer than the specified 256\n",
      "Created a chunk of size 557, which is longer than the specified 256\n",
      "Created a chunk of size 631, which is longer than the specified 256\n",
      "Created a chunk of size 387, which is longer than the specified 256\n",
      "Created a chunk of size 837, which is longer than the specified 256\n",
      "Created a chunk of size 723, which is longer than the specified 256\n",
      "Created a chunk of size 3919, which is longer than the specified 256\n",
      "Created a chunk of size 1373, which is longer than the specified 256\n",
      "Created a chunk of size 777, which is longer than the specified 256\n",
      "Created a chunk of size 1262, which is longer than the specified 256\n",
      "Created a chunk of size 1497, which is longer than the specified 256\n",
      "Created a chunk of size 2240, which is longer than the specified 256\n",
      "Created a chunk of size 674, which is longer than the specified 256\n",
      "Created a chunk of size 2664, which is longer than the specified 256\n",
      "Created a chunk of size 2048, which is longer than the specified 256\n",
      "Created a chunk of size 1804, which is longer than the specified 256\n",
      "Created a chunk of size 1002, which is longer than the specified 256\n",
      "Created a chunk of size 2301, which is longer than the specified 256\n",
      "Created a chunk of size 1712, which is longer than the specified 256\n",
      "Created a chunk of size 1028, which is longer than the specified 256\n",
      "Created a chunk of size 1152, which is longer than the specified 256\n",
      "Created a chunk of size 2686, which is longer than the specified 256\n",
      "Created a chunk of size 304, which is longer than the specified 256\n",
      "Created a chunk of size 1142, which is longer than the specified 256\n",
      "Created a chunk of size 1049, which is longer than the specified 256\n",
      "Created a chunk of size 1091, which is longer than the specified 256\n",
      "Created a chunk of size 573, which is longer than the specified 256\n",
      "Created a chunk of size 796, which is longer than the specified 256\n",
      "Created a chunk of size 1552, which is longer than the specified 256\n",
      "Created a chunk of size 1097, which is longer than the specified 256\n",
      "Created a chunk of size 335, which is longer than the specified 256\n",
      "Created a chunk of size 495, which is longer than the specified 256\n",
      "Created a chunk of size 413, which is longer than the specified 256\n",
      "Created a chunk of size 1918, which is longer than the specified 256\n",
      "Created a chunk of size 329, which is longer than the specified 256\n",
      "Created a chunk of size 273, which is longer than the specified 256\n",
      "Created a chunk of size 691, which is longer than the specified 256\n",
      "Created a chunk of size 3027, which is longer than the specified 256\n",
      "Created a chunk of size 1947, which is longer than the specified 256\n",
      "Created a chunk of size 1410, which is longer than the specified 256\n",
      "Created a chunk of size 1508, which is longer than the specified 256\n",
      "Created a chunk of size 1915, which is longer than the specified 256\n",
      "Created a chunk of size 1214, which is longer than the specified 256\n",
      "Created a chunk of size 1137, which is longer than the specified 256\n",
      "Created a chunk of size 3613, which is longer than the specified 256\n",
      "Created a chunk of size 671, which is longer than the specified 256\n",
      "Created a chunk of size 2558, which is longer than the specified 256\n",
      "Created a chunk of size 1723, which is longer than the specified 256\n",
      "Created a chunk of size 1968, which is longer than the specified 256\n",
      "Created a chunk of size 2675, which is longer than the specified 256\n",
      "Created a chunk of size 1177, which is longer than the specified 256\n",
      "Created a chunk of size 690, which is longer than the specified 256\n",
      "Created a chunk of size 1110, which is longer than the specified 256\n",
      "Created a chunk of size 1083, which is longer than the specified 256\n",
      "Created a chunk of size 586, which is longer than the specified 256\n",
      "Created a chunk of size 2074, which is longer than the specified 256\n",
      "Created a chunk of size 1366, which is longer than the specified 256\n",
      "Created a chunk of size 429, which is longer than the specified 256\n",
      "Created a chunk of size 1852, which is longer than the specified 256\n",
      "Created a chunk of size 424, which is longer than the specified 256\n",
      "Created a chunk of size 3669, which is longer than the specified 256\n",
      "Created a chunk of size 863, which is longer than the specified 256\n",
      "Created a chunk of size 703, which is longer than the specified 256\n",
      "Created a chunk of size 803, which is longer than the specified 256\n",
      "Created a chunk of size 4770, which is longer than the specified 256\n",
      "Created a chunk of size 1123, which is longer than the specified 256\n",
      "Created a chunk of size 2309, which is longer than the specified 256\n",
      "Created a chunk of size 2172, which is longer than the specified 256\n",
      "Created a chunk of size 3478, which is longer than the specified 256\n",
      "Created a chunk of size 1689, which is longer than the specified 256\n",
      "Created a chunk of size 756, which is longer than the specified 256\n",
      "Created a chunk of size 1158, which is longer than the specified 256\n",
      "Created a chunk of size 1115, which is longer than the specified 256\n",
      "Created a chunk of size 572, which is longer than the specified 256\n",
      "Created a chunk of size 1054, which is longer than the specified 256\n",
      "Created a chunk of size 722, which is longer than the specified 256\n",
      "Created a chunk of size 2355, which is longer than the specified 256\n",
      "Created a chunk of size 1452, which is longer than the specified 256\n",
      "Created a chunk of size 1193, which is longer than the specified 256\n",
      "Created a chunk of size 1854, which is longer than the specified 256\n",
      "Created a chunk of size 1205, which is longer than the specified 256\n",
      "Created a chunk of size 1398, which is longer than the specified 256\n",
      "Created a chunk of size 6104, which is longer than the specified 256\n",
      "Created a chunk of size 3265, which is longer than the specified 256\n",
      "Created a chunk of size 828, which is longer than the specified 256\n",
      "Created a chunk of size 1742, which is longer than the specified 256\n",
      "Created a chunk of size 3349, which is longer than the specified 256\n",
      "Created a chunk of size 2550, which is longer than the specified 256\n",
      "Created a chunk of size 1506, which is longer than the specified 256\n",
      "Created a chunk of size 990, which is longer than the specified 256\n",
      "Created a chunk of size 3157, which is longer than the specified 256\n",
      "Created a chunk of size 1058, which is longer than the specified 256\n"
     ]
    }
   ],
   "source": [
    "texts=text_splitter.create_documents(documents)"
   ]
  },
  {
   "cell_type": "code",
   "execution_count": 6,
   "metadata": {},
   "outputs": [],
   "source": [
    "embeddings= OpenAIEmbeddings(openai_api_key=os.getenv('OPENAI_API_KEY'))"
   ]
  },
  {
   "cell_type": "code",
   "execution_count": 7,
   "metadata": {},
   "outputs": [
    {
     "name": "stderr",
     "output_type": "stream",
     "text": [
      "Using embedded DuckDB without persistence: data will be transient\n"
     ]
    }
   ],
   "source": [
    "docsearch = Chroma.from_documents(texts, embeddings)"
   ]
  },
  {
   "cell_type": "code",
   "execution_count": 8,
   "metadata": {},
   "outputs": [
    {
     "name": "stderr",
     "output_type": "stream",
     "text": [
      "/home/prarabdh/anaconda3/envs/nlp/lib/python3.9/site-packages/langchain/chains/retrieval_qa/base.py:201: UserWarning: `VectorDBQA` is deprecated - please use `from langchain.chains import RetrievalQA`\n",
      "  warnings.warn(\n"
     ]
    }
   ],
   "source": [
    "qa = VectorDBQA.from_chain_type(llm=OpenAI(), chain_type=\"stuff\", vectorstore=docsearch)"
   ]
  },
  {
   "cell_type": "code",
   "execution_count": 9,
   "metadata": {},
   "outputs": [
    {
     "data": {
      "text/plain": [
       "' Shakespeare was born in Stratford-upon-Avon.'"
      ]
     },
     "execution_count": 9,
     "metadata": {},
     "output_type": "execute_result"
    }
   ],
   "source": [
    "query = \"Where was Shakespeare born?\"\n",
    "qa.run(query)"
   ]
  },
  {
   "cell_type": "code",
   "execution_count": 10,
   "metadata": {},
   "outputs": [
    {
     "data": {
      "text/plain": [
       "' 1564'"
      ]
     },
     "execution_count": 10,
     "metadata": {},
     "output_type": "execute_result"
    }
   ],
   "source": [
    "query= \"Which year was Shakespeare born?\"\n",
    "qa.run(query)"
   ]
  },
  {
   "cell_type": "code",
   "execution_count": 11,
   "metadata": {},
   "outputs": [
    {
     "data": {
      "text/plain": [
       "' Hamlet.'"
      ]
     },
     "execution_count": 11,
     "metadata": {},
     "output_type": "execute_result"
    }
   ],
   "source": [
    "query= \"What was Shakespeare's most famous work?\"\n",
    "qa.run(query)"
   ]
  },
  {
   "cell_type": "code",
   "execution_count": 12,
   "metadata": {},
   "outputs": [
    {
     "data": {
      "text/plain": [
       "4"
      ]
     },
     "execution_count": 12,
     "metadata": {},
     "output_type": "execute_result"
    }
   ],
   "source": [
    "matches=docsearch.similarity_search(query)\n",
    "len(matches) # Number of chunks that match the query"
   ]
  },
  {
   "cell_type": "markdown",
   "metadata": {},
   "source": [
    "### ChatBot: Baseline version"
   ]
  },
  {
   "cell_type": "code",
   "execution_count": 2,
   "metadata": {},
   "outputs": [],
   "source": [
    "from IPython.display import display\n",
    "import ipywidgets as widgets"
   ]
  },
  {
   "cell_type": "code",
   "execution_count": 3,
   "metadata": {},
   "outputs": [],
   "source": [
    "from langchain.chains import ConversationalRetrievalChain"
   ]
  },
  {
   "cell_type": "code",
   "execution_count": 4,
   "metadata": {},
   "outputs": [
    {
     "name": "stdout",
     "output_type": "stream",
     "text": [
      "Welcome to the Shakespeare chatbot! Type 'exit' to come back to the real world! \n"
     ]
    },
    {
     "name": "stderr",
     "output_type": "stream",
     "text": [
      "/tmp/ipykernel_2629074/3098440434.py:17: DeprecationWarning: on_submit is deprecated. Instead, set the .continuous_update attribute to False and observe the value changing with: mywidget.observe(callback, 'value').\n",
      "  input_box.on_submit(on_submit)\n"
     ]
    }
   ],
   "source": [
    "chat_history=[]\n",
    "def on_submit(_):\n",
    "    query=input_box.value\n",
    "    input_box.value=\"\"\n",
    "\n",
    "    if query.lower()==\"exit\":\n",
    "        print(\"Exiting.....thanks :)\")\n",
    "        return \n",
    "    result=qa({\"question\":query, \"chat_history\":chat_history})\n",
    "    chat_history.append((query,result['answer']))\n",
    "\n",
    "    display(widgets.HTML(f'<b>User: </b> {query}'))\n",
    "    display(widgets.HTML(f'<b><font color=\"blue\">Chatbot:</font></b> {result[\"answer\"]}'))\n",
    "print(\"Welcome to the Shakespeare chatbot! Type 'exit' to come back to the real world! \")\n",
    "\n",
    "input_box=widgets.Text(placeholder='Hark! Pose thy query forthwith! ')\n",
    "input_box.on_submit(on_submit)"
   ]
  },
  {
   "cell_type": "code",
   "execution_count": 18,
   "metadata": {},
   "outputs": [],
   "source": []
  }
 ],
 "metadata": {
  "kernelspec": {
   "display_name": "Python 3 (ipykernel)",
   "language": "python",
   "name": "python3"
  },
  "language_info": {
   "codemirror_mode": {
    "name": "ipython",
    "version": 3
   },
   "file_extension": ".py",
   "mimetype": "text/x-python",
   "name": "python",
   "nbconvert_exporter": "python",
   "pygments_lexer": "ipython3",
   "version": "3.9.16"
  }
 },
 "nbformat": 4,
 "nbformat_minor": 2
}
