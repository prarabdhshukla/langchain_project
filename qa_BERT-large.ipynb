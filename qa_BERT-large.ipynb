{
 "cells": [
  {
   "cell_type": "code",
   "execution_count": 2,
   "metadata": {},
   "outputs": [],
   "source": [
    "from langchain.embeddings.openai import OpenAIEmbeddings\n",
    "from langchain.vectorstores import Chroma\n",
    "from langchain.text_splitter import CharacterTextSplitter\n",
    "from langchain import OpenAI, VectorDBQA\n",
    "from langchain.document_loaders import DirectoryLoader\n",
    "import magic\n",
    "import os\n",
    "import nltk\n",
    "from io import StringIO"
   ]
  },
  {
   "cell_type": "code",
   "execution_count": 3,
   "metadata": {},
   "outputs": [],
   "source": [
    "import numpy as np"
   ]
  },
  {
   "cell_type": "code",
   "execution_count": 4,
   "metadata": {},
   "outputs": [],
   "source": [
    "documents=[]\n",
    "relevant='./data/relevant/'\n",
    "generic='./data/generic'\n",
    "\n",
    "for text_file in os.listdir(relevant):\n",
    "    with open(os.path.join(relevant,text_file), 'r') as File:\n",
    "        documents.append(File.read())\n",
    "for text_file in os.listdir(generic):\n",
    "    with open(os.path.join(generic,text_file), 'r') as File:\n",
    "        documents.append(File.read())"
   ]
  },
  {
   "cell_type": "code",
   "execution_count": 5,
   "metadata": {},
   "outputs": [],
   "source": [
    "text_splitter=CharacterTextSplitter(chunk_size=256,chunk_overlap=0)"
   ]
  },
  {
   "cell_type": "code",
   "execution_count": 6,
   "metadata": {},
   "outputs": [
    {
     "data": {
      "application/vnd.jupyter.widget-view+json": {
       "model_id": "8dd31eb9b4c2439ca29260afb1bf5425",
       "version_major": 2,
       "version_minor": 0
      },
      "text/plain": [
       "Downloading (…)10431/.gitattributes:   0%|          | 0.00/491 [00:00<?, ?B/s]"
      ]
     },
     "metadata": {},
     "output_type": "display_data"
    },
    {
     "data": {
      "application/vnd.jupyter.widget-view+json": {
       "model_id": "0872357e9f8d4da297c8692a66dcd7c5",
       "version_major": 2,
       "version_minor": 0
      },
      "text/plain": [
       "Downloading (…)a37c210431/README.md:   0%|          | 0.00/8.96k [00:00<?, ?B/s]"
      ]
     },
     "metadata": {},
     "output_type": "display_data"
    },
    {
     "data": {
      "application/vnd.jupyter.widget-view+json": {
       "model_id": "0f14b36046644c0cb3d8c3810eb80abc",
       "version_major": 2,
       "version_minor": 0
      },
      "text/plain": [
       "Downloading (…)7c210431/config.json:   0%|          | 0.00/571 [00:00<?, ?B/s]"
      ]
     },
     "metadata": {},
     "output_type": "display_data"
    },
    {
     "data": {
      "application/vnd.jupyter.widget-view+json": {
       "model_id": "4fc195724a7541bc8a36346d6f63b826",
       "version_major": 2,
       "version_minor": 0
      },
      "text/plain": [
       "Downloading model.safetensors:   0%|          | 0.00/1.34G [00:00<?, ?B/s]"
      ]
     },
     "metadata": {},
     "output_type": "display_data"
    },
    {
     "data": {
      "application/vnd.jupyter.widget-view+json": {
       "model_id": "2f03bb891fe04e129494969e1ce111c4",
       "version_major": 2,
       "version_minor": 0
      },
      "text/plain": [
       "Downloading pytorch_model.bin:   0%|          | 0.00/1.34G [00:00<?, ?B/s]"
      ]
     },
     "metadata": {},
     "output_type": "display_data"
    },
    {
     "data": {
      "application/vnd.jupyter.widget-view+json": {
       "model_id": "9dc925f377f544a0b46cf7662deffb27",
       "version_major": 2,
       "version_minor": 0
      },
      "text/plain": [
       "Downloading (…)10431/tokenizer.json:   0%|          | 0.00/466k [00:00<?, ?B/s]"
      ]
     },
     "metadata": {},
     "output_type": "display_data"
    },
    {
     "data": {
      "application/vnd.jupyter.widget-view+json": {
       "model_id": "e3253b97c95d45e99c67e956638f36c8",
       "version_major": 2,
       "version_minor": 0
      },
      "text/plain": [
       "Downloading (…)okenizer_config.json:   0%|          | 0.00/28.0 [00:00<?, ?B/s]"
      ]
     },
     "metadata": {},
     "output_type": "display_data"
    },
    {
     "data": {
      "application/vnd.jupyter.widget-view+json": {
       "model_id": "561bc60618944600aa7f51867195dbe8",
       "version_major": 2,
       "version_minor": 0
      },
      "text/plain": [
       "Downloading (…)a37c210431/vocab.txt:   0%|          | 0.00/232k [00:00<?, ?B/s]"
      ]
     },
     "metadata": {},
     "output_type": "display_data"
    },
    {
     "data": {
      "application/vnd.jupyter.widget-view+json": {
       "model_id": "e1b7dd78c8f64b4ba72859a200710feb",
       "version_major": 2,
       "version_minor": 0
      },
      "text/plain": [
       "Downloading (…)-word-masking.tar.gz:   0%|          | 0.00/1.25G [00:00<?, ?B/s]"
      ]
     },
     "metadata": {},
     "output_type": "display_data"
    },
    {
     "name": "stderr",
     "output_type": "stream",
     "text": [
      "No sentence-transformers model found with name /home/prarabdh/.cache/torch/sentence_transformers/bert-large-uncased. Creating a new one with MEAN pooling.\n",
      "Some weights of the model checkpoint at /home/prarabdh/.cache/torch/sentence_transformers/bert-large-uncased were not used when initializing BertModel: ['cls.predictions.transform.LayerNorm.weight', 'cls.predictions.transform.dense.bias', 'cls.predictions.bias', 'cls.predictions.transform.dense.weight', 'cls.seq_relationship.weight', 'cls.predictions.decoder.weight', 'cls.seq_relationship.bias', 'cls.predictions.transform.LayerNorm.bias']\n",
      "- This IS expected if you are initializing BertModel from the checkpoint of a model trained on another task or with another architecture (e.g. initializing a BertForSequenceClassification model from a BertForPreTraining model).\n",
      "- This IS NOT expected if you are initializing BertModel from the checkpoint of a model that you expect to be exactly identical (initializing a BertForSequenceClassification model from a BertForSequenceClassification model).\n"
     ]
    }
   ],
   "source": [
    "from langchain.embeddings import HuggingFaceEmbeddings\n",
    "model='bert-large-uncased'\n",
    "model_kwargs={'device':'cuda'}\n",
    "hf=HuggingFaceEmbeddings(\n",
    "    model_name=model,\n",
    "    model_kwargs=model_kwargs\n",
    ")"
   ]
  },
  {
   "cell_type": "code",
   "execution_count": 8,
   "metadata": {},
   "outputs": [
    {
     "name": "stderr",
     "output_type": "stream",
     "text": [
      "Created a chunk of size 439, which is longer than the specified 256\n",
      "Created a chunk of size 997, which is longer than the specified 256\n",
      "Created a chunk of size 2735, which is longer than the specified 256\n",
      "Created a chunk of size 288, which is longer than the specified 256\n",
      "Created a chunk of size 1233, which is longer than the specified 256\n",
      "Created a chunk of size 422, which is longer than the specified 256\n",
      "Created a chunk of size 1102, which is longer than the specified 256\n",
      "Created a chunk of size 1118, which is longer than the specified 256\n",
      "Created a chunk of size 1371, which is longer than the specified 256\n",
      "Created a chunk of size 797, which is longer than the specified 256\n",
      "Created a chunk of size 1413, which is longer than the specified 256\n",
      "Created a chunk of size 681, which is longer than the specified 256\n",
      "Created a chunk of size 1171, which is longer than the specified 256\n",
      "Created a chunk of size 812, which is longer than the specified 256\n",
      "Created a chunk of size 1554, which is longer than the specified 256\n",
      "Created a chunk of size 518, which is longer than the specified 256\n",
      "Created a chunk of size 4883, which is longer than the specified 256\n",
      "Created a chunk of size 2039, which is longer than the specified 256\n",
      "Created a chunk of size 335, which is longer than the specified 256\n",
      "Created a chunk of size 2046, which is longer than the specified 256\n",
      "Created a chunk of size 753, which is longer than the specified 256\n",
      "Created a chunk of size 282, which is longer than the specified 256\n",
      "Created a chunk of size 415, which is longer than the specified 256\n",
      "Created a chunk of size 1237, which is longer than the specified 256\n",
      "Created a chunk of size 291, which is longer than the specified 256\n",
      "Created a chunk of size 294, which is longer than the specified 256\n",
      "Created a chunk of size 904, which is longer than the specified 256\n",
      "Created a chunk of size 980, which is longer than the specified 256\n",
      "Created a chunk of size 519, which is longer than the specified 256\n",
      "Created a chunk of size 1775, which is longer than the specified 256\n",
      "Created a chunk of size 1268, which is longer than the specified 256\n",
      "Created a chunk of size 1754, which is longer than the specified 256\n",
      "Created a chunk of size 871, which is longer than the specified 256\n",
      "Created a chunk of size 891, which is longer than the specified 256\n",
      "Created a chunk of size 629, which is longer than the specified 256\n",
      "Created a chunk of size 1038, which is longer than the specified 256\n",
      "Created a chunk of size 651, which is longer than the specified 256\n",
      "Created a chunk of size 708, which is longer than the specified 256\n",
      "Created a chunk of size 798, which is longer than the specified 256\n",
      "Created a chunk of size 4232, which is longer than the specified 256\n",
      "Created a chunk of size 1064, which is longer than the specified 256\n",
      "Created a chunk of size 959, which is longer than the specified 256\n",
      "Created a chunk of size 2810, which is longer than the specified 256\n",
      "Created a chunk of size 2750, which is longer than the specified 256\n",
      "Created a chunk of size 1303, which is longer than the specified 256\n",
      "Created a chunk of size 1676, which is longer than the specified 256\n",
      "Created a chunk of size 2548, which is longer than the specified 256\n",
      "Created a chunk of size 2460, which is longer than the specified 256\n",
      "Created a chunk of size 1826, which is longer than the specified 256\n",
      "Created a chunk of size 1335, which is longer than the specified 256\n",
      "Created a chunk of size 338, which is longer than the specified 256\n",
      "Created a chunk of size 1485, which is longer than the specified 256\n",
      "Created a chunk of size 2158, which is longer than the specified 256\n",
      "Created a chunk of size 2233, which is longer than the specified 256\n",
      "Created a chunk of size 1305, which is longer than the specified 256\n",
      "Created a chunk of size 732, which is longer than the specified 256\n",
      "Created a chunk of size 1444, which is longer than the specified 256\n",
      "Created a chunk of size 1564, which is longer than the specified 256\n",
      "Created a chunk of size 2494, which is longer than the specified 256\n",
      "Created a chunk of size 1168, which is longer than the specified 256\n",
      "Created a chunk of size 965, which is longer than the specified 256\n",
      "Created a chunk of size 1592, which is longer than the specified 256\n",
      "Created a chunk of size 1507, which is longer than the specified 256\n",
      "Created a chunk of size 1214, which is longer than the specified 256\n",
      "Created a chunk of size 975, which is longer than the specified 256\n",
      "Created a chunk of size 489, which is longer than the specified 256\n",
      "Created a chunk of size 550, which is longer than the specified 256\n",
      "Created a chunk of size 1440, which is longer than the specified 256\n",
      "Created a chunk of size 1907, which is longer than the specified 256\n",
      "Created a chunk of size 4086, which is longer than the specified 256\n",
      "Created a chunk of size 1708, which is longer than the specified 256\n",
      "Created a chunk of size 1888, which is longer than the specified 256\n",
      "Created a chunk of size 640, which is longer than the specified 256\n",
      "Created a chunk of size 1285, which is longer than the specified 256\n",
      "Created a chunk of size 575, which is longer than the specified 256\n",
      "Created a chunk of size 606, which is longer than the specified 256\n",
      "Created a chunk of size 678, which is longer than the specified 256\n",
      "Created a chunk of size 2253, which is longer than the specified 256\n",
      "Created a chunk of size 1942, which is longer than the specified 256\n",
      "Created a chunk of size 687, which is longer than the specified 256\n",
      "Created a chunk of size 6552, which is longer than the specified 256\n",
      "Created a chunk of size 529, which is longer than the specified 256\n",
      "Created a chunk of size 1935, which is longer than the specified 256\n",
      "Created a chunk of size 2315, which is longer than the specified 256\n",
      "Created a chunk of size 498, which is longer than the specified 256\n",
      "Created a chunk of size 734, which is longer than the specified 256\n",
      "Created a chunk of size 568, which is longer than the specified 256\n",
      "Created a chunk of size 2455, which is longer than the specified 256\n",
      "Created a chunk of size 3583, which is longer than the specified 256\n",
      "Created a chunk of size 1253, which is longer than the specified 256\n",
      "Created a chunk of size 730, which is longer than the specified 256\n",
      "Created a chunk of size 5751, which is longer than the specified 256\n",
      "Created a chunk of size 1765, which is longer than the specified 256\n",
      "Created a chunk of size 1989, which is longer than the specified 256\n",
      "Created a chunk of size 683, which is longer than the specified 256\n",
      "Created a chunk of size 925, which is longer than the specified 256\n",
      "Created a chunk of size 594, which is longer than the specified 256\n",
      "Created a chunk of size 2039, which is longer than the specified 256\n",
      "Created a chunk of size 636, which is longer than the specified 256\n",
      "Created a chunk of size 1102, which is longer than the specified 256\n",
      "Created a chunk of size 409, which is longer than the specified 256\n",
      "Created a chunk of size 1090, which is longer than the specified 256\n",
      "Created a chunk of size 1013, which is longer than the specified 256\n",
      "Created a chunk of size 910, which is longer than the specified 256\n",
      "Created a chunk of size 353, which is longer than the specified 256\n",
      "Created a chunk of size 1279, which is longer than the specified 256\n",
      "Created a chunk of size 674, which is longer than the specified 256\n",
      "Created a chunk of size 1587, which is longer than the specified 256\n",
      "Created a chunk of size 1899, which is longer than the specified 256\n",
      "Created a chunk of size 1435, which is longer than the specified 256\n",
      "Created a chunk of size 902, which is longer than the specified 256\n",
      "Created a chunk of size 907, which is longer than the specified 256\n",
      "Created a chunk of size 863, which is longer than the specified 256\n",
      "Created a chunk of size 2237, which is longer than the specified 256\n",
      "Created a chunk of size 2900, which is longer than the specified 256\n",
      "Created a chunk of size 1941, which is longer than the specified 256\n",
      "Created a chunk of size 2252, which is longer than the specified 256\n",
      "Created a chunk of size 2741, which is longer than the specified 256\n",
      "Created a chunk of size 732, which is longer than the specified 256\n",
      "Created a chunk of size 948, which is longer than the specified 256\n",
      "Created a chunk of size 508, which is longer than the specified 256\n",
      "Created a chunk of size 3333, which is longer than the specified 256\n",
      "Created a chunk of size 660, which is longer than the specified 256\n",
      "Created a chunk of size 442, which is longer than the specified 256\n",
      "Created a chunk of size 2399, which is longer than the specified 256\n",
      "Created a chunk of size 1376, which is longer than the specified 256\n",
      "Created a chunk of size 2732, which is longer than the specified 256\n",
      "Created a chunk of size 2098, which is longer than the specified 256\n",
      "Created a chunk of size 1296, which is longer than the specified 256\n",
      "Created a chunk of size 464, which is longer than the specified 256\n",
      "Created a chunk of size 1721, which is longer than the specified 256\n",
      "Created a chunk of size 1758, which is longer than the specified 256\n",
      "Created a chunk of size 1311, which is longer than the specified 256\n",
      "Created a chunk of size 366, which is longer than the specified 256\n",
      "Created a chunk of size 434, which is longer than the specified 256\n",
      "Created a chunk of size 1119, which is longer than the specified 256\n",
      "Created a chunk of size 951, which is longer than the specified 256\n",
      "Created a chunk of size 868, which is longer than the specified 256\n",
      "Created a chunk of size 2835, which is longer than the specified 256\n",
      "Created a chunk of size 1923, which is longer than the specified 256\n",
      "Created a chunk of size 278, which is longer than the specified 256\n",
      "Created a chunk of size 329, which is longer than the specified 256\n",
      "Created a chunk of size 2514, which is longer than the specified 256\n",
      "Created a chunk of size 2879, which is longer than the specified 256\n",
      "Created a chunk of size 425, which is longer than the specified 256\n",
      "Created a chunk of size 1998, which is longer than the specified 256\n",
      "Created a chunk of size 1779, which is longer than the specified 256\n",
      "Created a chunk of size 1885, which is longer than the specified 256\n",
      "Created a chunk of size 1352, which is longer than the specified 256\n",
      "Created a chunk of size 398, which is longer than the specified 256\n",
      "Created a chunk of size 1498, which is longer than the specified 256\n",
      "Created a chunk of size 2494, which is longer than the specified 256\n",
      "Created a chunk of size 1174, which is longer than the specified 256\n",
      "Created a chunk of size 847, which is longer than the specified 256\n",
      "Created a chunk of size 333, which is longer than the specified 256\n",
      "Created a chunk of size 1579, which is longer than the specified 256\n",
      "Created a chunk of size 1671, which is longer than the specified 256\n",
      "Created a chunk of size 2775, which is longer than the specified 256\n",
      "Created a chunk of size 837, which is longer than the specified 256\n",
      "Created a chunk of size 267, which is longer than the specified 256\n",
      "Created a chunk of size 2177, which is longer than the specified 256\n",
      "Created a chunk of size 1161, which is longer than the specified 256\n",
      "Created a chunk of size 284, which is longer than the specified 256\n",
      "Created a chunk of size 2711, which is longer than the specified 256\n",
      "Created a chunk of size 2717, which is longer than the specified 256\n",
      "Created a chunk of size 2647, which is longer than the specified 256\n",
      "Created a chunk of size 2343, which is longer than the specified 256\n",
      "Created a chunk of size 1368, which is longer than the specified 256\n",
      "Created a chunk of size 2887, which is longer than the specified 256\n",
      "Created a chunk of size 1835, which is longer than the specified 256\n",
      "Created a chunk of size 4504, which is longer than the specified 256\n",
      "Created a chunk of size 1070, which is longer than the specified 256\n",
      "Created a chunk of size 6246, which is longer than the specified 256\n",
      "Created a chunk of size 323, which is longer than the specified 256\n",
      "Created a chunk of size 1241, which is longer than the specified 256\n",
      "Created a chunk of size 3196, which is longer than the specified 256\n",
      "Created a chunk of size 3619, which is longer than the specified 256\n",
      "Created a chunk of size 2132, which is longer than the specified 256\n",
      "Created a chunk of size 1716, which is longer than the specified 256\n",
      "Created a chunk of size 470, which is longer than the specified 256\n",
      "Created a chunk of size 881, which is longer than the specified 256\n",
      "Created a chunk of size 2682, which is longer than the specified 256\n",
      "Created a chunk of size 4312, which is longer than the specified 256\n",
      "Created a chunk of size 727, which is longer than the specified 256\n",
      "Created a chunk of size 1348, which is longer than the specified 256\n",
      "Created a chunk of size 282, which is longer than the specified 256\n",
      "Created a chunk of size 2703, which is longer than the specified 256\n",
      "Created a chunk of size 485, which is longer than the specified 256\n",
      "Created a chunk of size 1843, which is longer than the specified 256\n",
      "Created a chunk of size 501, which is longer than the specified 256\n",
      "Created a chunk of size 2720, which is longer than the specified 256\n",
      "Created a chunk of size 1121, which is longer than the specified 256\n",
      "Created a chunk of size 2667, which is longer than the specified 256\n",
      "Created a chunk of size 2877, which is longer than the specified 256\n",
      "Created a chunk of size 874, which is longer than the specified 256\n",
      "Created a chunk of size 3941, which is longer than the specified 256\n",
      "Created a chunk of size 631, which is longer than the specified 256\n",
      "Created a chunk of size 1091, which is longer than the specified 256\n",
      "Created a chunk of size 1153, which is longer than the specified 256\n",
      "Created a chunk of size 979, which is longer than the specified 256\n",
      "Created a chunk of size 1089, which is longer than the specified 256\n",
      "Created a chunk of size 3405, which is longer than the specified 256\n",
      "Created a chunk of size 1136, which is longer than the specified 256\n",
      "Created a chunk of size 767, which is longer than the specified 256\n",
      "Created a chunk of size 2404, which is longer than the specified 256\n",
      "Created a chunk of size 2119, which is longer than the specified 256\n",
      "Created a chunk of size 346, which is longer than the specified 256\n",
      "Created a chunk of size 631, which is longer than the specified 256\n",
      "Created a chunk of size 2281, which is longer than the specified 256\n",
      "Created a chunk of size 2302, which is longer than the specified 256\n",
      "Created a chunk of size 966, which is longer than the specified 256\n",
      "Created a chunk of size 2604, which is longer than the specified 256\n",
      "Created a chunk of size 1348, which is longer than the specified 256\n",
      "Created a chunk of size 3613, which is longer than the specified 256\n",
      "Created a chunk of size 3020, which is longer than the specified 256\n",
      "Created a chunk of size 1068, which is longer than the specified 256\n",
      "Created a chunk of size 3592, which is longer than the specified 256\n",
      "Created a chunk of size 5339, which is longer than the specified 256\n",
      "Created a chunk of size 2585, which is longer than the specified 256\n",
      "Created a chunk of size 1747, which is longer than the specified 256\n",
      "Created a chunk of size 3941, which is longer than the specified 256\n",
      "Created a chunk of size 1000, which is longer than the specified 256\n",
      "Created a chunk of size 1569, which is longer than the specified 256\n",
      "Created a chunk of size 3265, which is longer than the specified 256\n",
      "Created a chunk of size 1500, which is longer than the specified 256\n",
      "Created a chunk of size 1069, which is longer than the specified 256\n",
      "Created a chunk of size 4115, which is longer than the specified 256\n",
      "Created a chunk of size 552, which is longer than the specified 256\n",
      "Created a chunk of size 1021, which is longer than the specified 256\n",
      "Created a chunk of size 323, which is longer than the specified 256\n",
      "Created a chunk of size 929, which is longer than the specified 256\n",
      "Created a chunk of size 541, which is longer than the specified 256\n",
      "Created a chunk of size 663, which is longer than the specified 256\n",
      "Created a chunk of size 1240, which is longer than the specified 256\n",
      "Created a chunk of size 475, which is longer than the specified 256\n",
      "Created a chunk of size 1287, which is longer than the specified 256\n",
      "Created a chunk of size 1767, which is longer than the specified 256\n",
      "Created a chunk of size 2641, which is longer than the specified 256\n",
      "Created a chunk of size 1824, which is longer than the specified 256\n",
      "Created a chunk of size 3510, which is longer than the specified 256\n",
      "Created a chunk of size 1244, which is longer than the specified 256\n",
      "Created a chunk of size 747, which is longer than the specified 256\n",
      "Created a chunk of size 4563, which is longer than the specified 256\n",
      "Created a chunk of size 2246, which is longer than the specified 256\n",
      "Created a chunk of size 517, which is longer than the specified 256\n",
      "Created a chunk of size 1902, which is longer than the specified 256\n",
      "Created a chunk of size 2952, which is longer than the specified 256\n",
      "Created a chunk of size 2136, which is longer than the specified 256\n",
      "Created a chunk of size 1178, which is longer than the specified 256\n",
      "Created a chunk of size 1422, which is longer than the specified 256\n",
      "Created a chunk of size 547, which is longer than the specified 256\n",
      "Created a chunk of size 937, which is longer than the specified 256\n",
      "Created a chunk of size 3129, which is longer than the specified 256\n",
      "Created a chunk of size 1836, which is longer than the specified 256\n",
      "Created a chunk of size 1910, which is longer than the specified 256\n",
      "Created a chunk of size 496, which is longer than the specified 256\n",
      "Created a chunk of size 2141, which is longer than the specified 256\n",
      "Created a chunk of size 741, which is longer than the specified 256\n",
      "Created a chunk of size 2023, which is longer than the specified 256\n",
      "Created a chunk of size 413, which is longer than the specified 256\n",
      "Created a chunk of size 1534, which is longer than the specified 256\n",
      "Created a chunk of size 534, which is longer than the specified 256\n",
      "Created a chunk of size 674, which is longer than the specified 256\n",
      "Created a chunk of size 1423, which is longer than the specified 256\n",
      "Created a chunk of size 3368, which is longer than the specified 256\n",
      "Created a chunk of size 3211, which is longer than the specified 256\n",
      "Created a chunk of size 2472, which is longer than the specified 256\n",
      "Created a chunk of size 2517, which is longer than the specified 256\n",
      "Created a chunk of size 3682, which is longer than the specified 256\n",
      "Created a chunk of size 1121, which is longer than the specified 256\n",
      "Created a chunk of size 530, which is longer than the specified 256\n",
      "Created a chunk of size 1711, which is longer than the specified 256\n",
      "Created a chunk of size 972, which is longer than the specified 256\n",
      "Created a chunk of size 1598, which is longer than the specified 256\n",
      "Created a chunk of size 950, which is longer than the specified 256\n",
      "Created a chunk of size 2667, which is longer than the specified 256\n",
      "Created a chunk of size 3015, which is longer than the specified 256\n",
      "Created a chunk of size 4011, which is longer than the specified 256\n",
      "Created a chunk of size 1606, which is longer than the specified 256\n",
      "Created a chunk of size 771, which is longer than the specified 256\n",
      "Created a chunk of size 1102, which is longer than the specified 256\n",
      "Created a chunk of size 557, which is longer than the specified 256\n",
      "Created a chunk of size 631, which is longer than the specified 256\n",
      "Created a chunk of size 387, which is longer than the specified 256\n",
      "Created a chunk of size 837, which is longer than the specified 256\n",
      "Created a chunk of size 723, which is longer than the specified 256\n",
      "Created a chunk of size 3919, which is longer than the specified 256\n",
      "Created a chunk of size 1373, which is longer than the specified 256\n",
      "Created a chunk of size 777, which is longer than the specified 256\n",
      "Created a chunk of size 1262, which is longer than the specified 256\n",
      "Created a chunk of size 1497, which is longer than the specified 256\n",
      "Created a chunk of size 2240, which is longer than the specified 256\n",
      "Created a chunk of size 674, which is longer than the specified 256\n",
      "Created a chunk of size 2664, which is longer than the specified 256\n",
      "Created a chunk of size 2048, which is longer than the specified 256\n",
      "Created a chunk of size 1804, which is longer than the specified 256\n",
      "Created a chunk of size 1002, which is longer than the specified 256\n",
      "Created a chunk of size 2301, which is longer than the specified 256\n",
      "Created a chunk of size 1712, which is longer than the specified 256\n",
      "Created a chunk of size 1028, which is longer than the specified 256\n",
      "Created a chunk of size 1152, which is longer than the specified 256\n",
      "Created a chunk of size 2686, which is longer than the specified 256\n",
      "Created a chunk of size 304, which is longer than the specified 256\n",
      "Created a chunk of size 1142, which is longer than the specified 256\n",
      "Created a chunk of size 1049, which is longer than the specified 256\n",
      "Created a chunk of size 1091, which is longer than the specified 256\n",
      "Created a chunk of size 573, which is longer than the specified 256\n",
      "Created a chunk of size 796, which is longer than the specified 256\n",
      "Created a chunk of size 1552, which is longer than the specified 256\n",
      "Created a chunk of size 1097, which is longer than the specified 256\n",
      "Created a chunk of size 335, which is longer than the specified 256\n",
      "Created a chunk of size 495, which is longer than the specified 256\n",
      "Created a chunk of size 413, which is longer than the specified 256\n",
      "Created a chunk of size 1918, which is longer than the specified 256\n",
      "Created a chunk of size 329, which is longer than the specified 256\n",
      "Created a chunk of size 273, which is longer than the specified 256\n",
      "Created a chunk of size 691, which is longer than the specified 256\n",
      "Created a chunk of size 3027, which is longer than the specified 256\n",
      "Created a chunk of size 1947, which is longer than the specified 256\n",
      "Created a chunk of size 1410, which is longer than the specified 256\n",
      "Created a chunk of size 1508, which is longer than the specified 256\n",
      "Created a chunk of size 1915, which is longer than the specified 256\n",
      "Created a chunk of size 1214, which is longer than the specified 256\n",
      "Created a chunk of size 1137, which is longer than the specified 256\n",
      "Created a chunk of size 3613, which is longer than the specified 256\n",
      "Created a chunk of size 671, which is longer than the specified 256\n",
      "Created a chunk of size 2558, which is longer than the specified 256\n",
      "Created a chunk of size 1723, which is longer than the specified 256\n",
      "Created a chunk of size 1968, which is longer than the specified 256\n",
      "Created a chunk of size 2675, which is longer than the specified 256\n",
      "Created a chunk of size 1177, which is longer than the specified 256\n",
      "Created a chunk of size 690, which is longer than the specified 256\n",
      "Created a chunk of size 1110, which is longer than the specified 256\n",
      "Created a chunk of size 1083, which is longer than the specified 256\n",
      "Created a chunk of size 586, which is longer than the specified 256\n",
      "Created a chunk of size 2074, which is longer than the specified 256\n",
      "Created a chunk of size 1366, which is longer than the specified 256\n",
      "Created a chunk of size 429, which is longer than the specified 256\n",
      "Created a chunk of size 1852, which is longer than the specified 256\n",
      "Created a chunk of size 424, which is longer than the specified 256\n",
      "Created a chunk of size 3669, which is longer than the specified 256\n",
      "Created a chunk of size 863, which is longer than the specified 256\n",
      "Created a chunk of size 703, which is longer than the specified 256\n",
      "Created a chunk of size 803, which is longer than the specified 256\n",
      "Created a chunk of size 4770, which is longer than the specified 256\n",
      "Created a chunk of size 1123, which is longer than the specified 256\n",
      "Created a chunk of size 2309, which is longer than the specified 256\n",
      "Created a chunk of size 2172, which is longer than the specified 256\n",
      "Created a chunk of size 3478, which is longer than the specified 256\n",
      "Created a chunk of size 1689, which is longer than the specified 256\n",
      "Created a chunk of size 756, which is longer than the specified 256\n",
      "Created a chunk of size 1158, which is longer than the specified 256\n",
      "Created a chunk of size 1115, which is longer than the specified 256\n",
      "Created a chunk of size 572, which is longer than the specified 256\n",
      "Created a chunk of size 1054, which is longer than the specified 256\n",
      "Created a chunk of size 722, which is longer than the specified 256\n",
      "Created a chunk of size 2355, which is longer than the specified 256\n",
      "Created a chunk of size 1452, which is longer than the specified 256\n",
      "Created a chunk of size 1193, which is longer than the specified 256\n",
      "Created a chunk of size 1854, which is longer than the specified 256\n",
      "Created a chunk of size 1205, which is longer than the specified 256\n",
      "Created a chunk of size 1398, which is longer than the specified 256\n",
      "Created a chunk of size 6104, which is longer than the specified 256\n",
      "Created a chunk of size 3265, which is longer than the specified 256\n",
      "Created a chunk of size 828, which is longer than the specified 256\n",
      "Created a chunk of size 1742, which is longer than the specified 256\n",
      "Created a chunk of size 3349, which is longer than the specified 256\n",
      "Created a chunk of size 2550, which is longer than the specified 256\n",
      "Created a chunk of size 1506, which is longer than the specified 256\n",
      "Created a chunk of size 990, which is longer than the specified 256\n",
      "Created a chunk of size 3157, which is longer than the specified 256\n",
      "Created a chunk of size 1058, which is longer than the specified 256\n"
     ]
    }
   ],
   "source": [
    "texts=text_splitter.create_documents(documents)"
   ]
  },
  {
   "cell_type": "code",
   "execution_count": 9,
   "metadata": {},
   "outputs": [
    {
     "name": "stderr",
     "output_type": "stream",
     "text": [
      "Using embedded DuckDB without persistence: data will be transient\n"
     ]
    }
   ],
   "source": [
    "docsearch = Chroma.from_documents(texts,hf)"
   ]
  },
  {
   "cell_type": "code",
   "execution_count": 10,
   "metadata": {},
   "outputs": [
    {
     "name": "stderr",
     "output_type": "stream",
     "text": [
      "/home/prarabdh/anaconda3/envs/nlp/lib/python3.9/site-packages/langchain/chains/retrieval_qa/base.py:201: UserWarning: `VectorDBQA` is deprecated - please use `from langchain.chains import RetrievalQA`\n",
      "  warnings.warn(\n"
     ]
    }
   ],
   "source": [
    "qa= VectorDBQA.from_chain_type(llm= OpenAI(), chain_type='stuff', vectorstore= docsearch)"
   ]
  },
  {
   "attachments": {},
   "cell_type": "markdown",
   "metadata": {},
   "source": [
    "## ChatBot: BERT Version"
   ]
  },
  {
   "cell_type": "code",
   "execution_count": 11,
   "metadata": {},
   "outputs": [],
   "source": [
    "from IPython.display import display\n",
    "import ipywidgets as widgets"
   ]
  },
  {
   "cell_type": "code",
   "execution_count": 12,
   "metadata": {},
   "outputs": [],
   "source": [
    "from langchain.chains import ConversationalRetrievalChain"
   ]
  },
  {
   "cell_type": "code",
   "execution_count": 13,
   "metadata": {},
   "outputs": [],
   "source": [
    "qa=ConversationalRetrievalChain.from_llm(OpenAI(temperature=0.1), docsearch.as_retriever())"
   ]
  },
  {
   "cell_type": "code",
   "execution_count": 14,
   "metadata": {},
   "outputs": [
    {
     "name": "stdout",
     "output_type": "stream",
     "text": [
      "Welcome to the Shakespeare chatbot! Type 'exit' to come back to the real world! \n"
     ]
    },
    {
     "name": "stderr",
     "output_type": "stream",
     "text": [
      "/tmp/ipykernel_3047242/2865146757.py:17: DeprecationWarning: on_submit is deprecated. Instead, set the .continuous_update attribute to False and observe the value changing with: mywidget.observe(callback, 'value').\n",
      "  input_box.on_submit(on_submit)\n"
     ]
    },
    {
     "data": {
      "application/vnd.jupyter.widget-view+json": {
       "model_id": "66b25d9a6d234dfab4c1af70e4e4d7cd",
       "version_major": 2,
       "version_minor": 0
      },
      "text/plain": [
       "Text(value='', placeholder='Hark! Pose thy query forthwith! ')"
      ]
     },
     "metadata": {},
     "output_type": "display_data"
    },
    {
     "data": {
      "application/vnd.jupyter.widget-view+json": {
       "model_id": "716f55886beb49bdb293f4bd409c7ed1",
       "version_major": 2,
       "version_minor": 0
      },
      "text/plain": [
       "HTML(value=\"<b>User: </b> Who was Shakespeare's wife?\")"
      ]
     },
     "metadata": {},
     "output_type": "display_data"
    },
    {
     "data": {
      "application/vnd.jupyter.widget-view+json": {
       "model_id": "b26f0580e9af4e9da73150201a329c23",
       "version_major": 2,
       "version_minor": 0
      },
      "text/plain": [
       "HTML(value='<b><font color=\"blue\">Chatbot:</font></b>  Shakespeare\\'s wife was Anne Hathaway.')"
      ]
     },
     "metadata": {},
     "output_type": "display_data"
    },
    {
     "data": {
      "application/vnd.jupyter.widget-view+json": {
       "model_id": "4e805587007241aca358fd49ca720a4b",
       "version_major": 2,
       "version_minor": 0
      },
      "text/plain": [
       "HTML(value='<b>User: </b> Was Antonio from Merchant of Venice married?')"
      ]
     },
     "metadata": {},
     "output_type": "display_data"
    },
    {
     "data": {
      "application/vnd.jupyter.widget-view+json": {
       "model_id": "a490bcb84fe4438db1dd73551af8b247",
       "version_major": 2,
       "version_minor": 0
      },
      "text/plain": [
       "HTML(value='<b><font color=\"blue\">Chatbot:</font></b>  Antonio from Merchant of Venice was not married.')"
      ]
     },
     "metadata": {},
     "output_type": "display_data"
    },
    {
     "data": {
      "application/vnd.jupyter.widget-view+json": {
       "model_id": "87a33259cfde4492a1091e8121057aba",
       "version_major": 2,
       "version_minor": 0
      },
      "text/plain": [
       "HTML(value='<b>User: </b> Who did Bassanio love?')"
      ]
     },
     "metadata": {},
     "output_type": "display_data"
    },
    {
     "data": {
      "application/vnd.jupyter.widget-view+json": {
       "model_id": "626a62f96b0443dfb256516ce0dda49f",
       "version_major": 2,
       "version_minor": 0
      },
      "text/plain": [
       "HTML(value='<b><font color=\"blue\">Chatbot:</font></b>  Portia.')"
      ]
     },
     "metadata": {},
     "output_type": "display_data"
    },
    {
     "data": {
      "application/vnd.jupyter.widget-view+json": {
       "model_id": "b8f0288001e54b1e98198fe66eb24980",
       "version_major": 2,
       "version_minor": 0
      },
      "text/plain": [
       "HTML(value=\"<b>User: </b> How many of Shakespeare's plays have a character named Portia?\")"
      ]
     },
     "metadata": {},
     "output_type": "display_data"
    },
    {
     "data": {
      "application/vnd.jupyter.widget-view+json": {
       "model_id": "780710d456674f7db3b024d0359d2bcd",
       "version_major": 2,
       "version_minor": 0
      },
      "text/plain": [
       "HTML(value='<b><font color=\"blue\">Chatbot:</font></b>  One - The Merchant of Venice.')"
      ]
     },
     "metadata": {},
     "output_type": "display_data"
    },
    {
     "data": {
      "application/vnd.jupyter.widget-view+json": {
       "model_id": "98edd77c06d14f6b89f7261ffe6a0874",
       "version_major": 2,
       "version_minor": 0
      },
      "text/plain": [
       "HTML(value=\"<b>User: </b> How many of Shakespeare's plays have a character named Antonio?\")"
      ]
     },
     "metadata": {},
     "output_type": "display_data"
    },
    {
     "data": {
      "application/vnd.jupyter.widget-view+json": {
       "model_id": "d5e57444bae441bda27c95d020d3c114",
       "version_major": 2,
       "version_minor": 0
      },
      "text/plain": [
       "HTML(value='<b><font color=\"blue\">Chatbot:</font></b>  Antonio appears in The Merchant of Venice, Twelfth Nigh…"
      ]
     },
     "metadata": {},
     "output_type": "display_data"
    },
    {
     "data": {
      "application/vnd.jupyter.widget-view+json": {
       "model_id": "ee775907178249c88951114b16f83285",
       "version_major": 2,
       "version_minor": 0
      },
      "text/plain": [
       "HTML(value=\"<b>User: </b> Was Shakespeare's age when he died?\")"
      ]
     },
     "metadata": {},
     "output_type": "display_data"
    },
    {
     "data": {
      "application/vnd.jupyter.widget-view+json": {
       "model_id": "4094135d93ca48c9bd3c7758c8860863",
       "version_major": 2,
       "version_minor": 0
      },
      "text/plain": [
       "HTML(value='<b><font color=\"blue\">Chatbot:</font></b>  Shakespeare died in his home town of Stratford on 23 Ap…"
      ]
     },
     "metadata": {},
     "output_type": "display_data"
    },
    {
     "data": {
      "application/vnd.jupyter.widget-view+json": {
       "model_id": "53de836abf0f4133bf45383e68ad9932",
       "version_major": 2,
       "version_minor": 0
      },
      "text/plain": [
       "HTML(value='<b>User: </b> How big is the Universe?')"
      ]
     },
     "metadata": {},
     "output_type": "display_data"
    },
    {
     "data": {
      "application/vnd.jupyter.widget-view+json": {
       "model_id": "f10c4d0aa56d429daa41750e991e44a1",
       "version_major": 2,
       "version_minor": 0
      },
      "text/plain": [
       "HTML(value='<b><font color=\"blue\">Chatbot:</font></b>  The size of the Universe is unknown, as we cannot obser…"
      ]
     },
     "metadata": {},
     "output_type": "display_data"
    }
   ],
   "source": [
    "chat_history=[]\n",
    "def on_submit(_):\n",
    "    query=input_box.value\n",
    "    input_box.value=\"\"\n",
    "\n",
    "    if query.lower()==\"exit\":\n",
    "        print(\"Exiting.....thanks :)\")\n",
    "        return \n",
    "    result=qa({\"question\":query, \"chat_history\":chat_history})\n",
    "    chat_history.append((query,result['answer']))\n",
    "\n",
    "    display(widgets.HTML(f'<b>User: </b> {query}'))\n",
    "    display(widgets.HTML(f'<b><font color=\"blue\">Chatbot:</font></b> {result[\"answer\"]}'))\n",
    "print(\"Welcome to the Shakespeare chatbot! Type 'exit' to come back to the real world! \")\n",
    "\n",
    "input_box=widgets.Text(placeholder='Hark! Pose thy query forthwith! ')\n",
    "input_box.on_submit(on_submit)\n",
    "display(input_box)"
   ]
  },
  {
   "cell_type": "code",
   "execution_count": null,
   "metadata": {},
   "outputs": [],
   "source": []
  },
  {
   "cell_type": "code",
   "execution_count": null,
   "metadata": {},
   "outputs": [],
   "source": []
  }
 ],
 "metadata": {
  "kernelspec": {
   "display_name": "nlp",
   "language": "python",
   "name": "python3"
  },
  "language_info": {
   "codemirror_mode": {
    "name": "ipython",
    "version": 3
   },
   "file_extension": ".py",
   "mimetype": "text/x-python",
   "name": "python",
   "nbconvert_exporter": "python",
   "pygments_lexer": "ipython3",
   "version": "3.9.16"
  },
  "orig_nbformat": 4
 },
 "nbformat": 4,
 "nbformat_minor": 2
}
